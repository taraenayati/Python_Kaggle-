{
  "metadata": {
    "kernelspec": {
      "display_name": "Python 3",
      "language": "python",
      "name": "python3"
    },
    "language_info": {
      "name": "python",
      "version": "3.10.12",
      "mimetype": "text/x-python",
      "codemirror_mode": {
        "name": "ipython",
        "version": 3
      },
      "pygments_lexer": "ipython3",
      "nbconvert_exporter": "python",
      "file_extension": ".py"
    },
    "learntools_metadata": {
      "lesson_index": 3,
      "type": "exercise"
    },
    "kaggle": {
      "accelerator": "none",
      "dataSources": [],
      "isInternetEnabled": false,
      "language": "python",
      "sourceType": "notebook",
      "isGpuEnabled": false
    },
    "colab": {
      "name": "Exercise: Lists",
      "provenance": [],
      "include_colab_link": true
    }
  },
  "nbformat_minor": 0,
  "nbformat": 4,
  "cells": [
    {
      "cell_type": "markdown",
      "metadata": {
        "id": "view-in-github",
        "colab_type": "text"
      },
      "source": [
        "<a href=\"https://colab.research.google.com/github/taraenayati/Python_Kaggle-/blob/main/Exercise_Lists.ipynb\" target=\"_parent\"><img src=\"https://colab.research.google.com/assets/colab-badge.svg\" alt=\"Open In Colab\"/></a>"
      ]
    },
    {
      "cell_type": "markdown",
      "source": [
        "**This notebook is an exercise in the [Python](https://www.kaggle.com/learn/python) course.  You can reference the tutorial at [this link](https://www.kaggle.com/colinmorris/lists).**\n",
        "\n",
        "---\n"
      ],
      "metadata": {
        "id": "E4NzvfWANnV8"
      }
    },
    {
      "cell_type": "markdown",
      "source": [
        "Things get more interesting with lists. You'll apply your new knowledge to solve the questions below. Remember to run the following cell first."
      ],
      "metadata": {
        "id": "v_9A2HAENnV9"
      }
    },
    {
      "cell_type": "code",
      "source": [
        "from learntools.core import binder; binder.bind(globals())\n",
        "from learntools.python.ex4 import *\n",
        "print('Setup complete.')"
      ],
      "metadata": {
        "trusted": true,
        "execution": {
          "iopub.status.busy": "2025-03-01T15:24:27.517544Z",
          "iopub.execute_input": "2025-03-01T15:24:27.517813Z",
          "iopub.status.idle": "2025-03-01T15:24:27.983934Z",
          "shell.execute_reply.started": "2025-03-01T15:24:27.517785Z",
          "shell.execute_reply": "2025-03-01T15:24:27.982933Z"
        },
        "id": "OAS6dazENnV-",
        "outputId": "143f012c-62f4-4c7d-de26-8ca0f1a63677"
      },
      "outputs": [
        {
          "name": "stdout",
          "text": "Setup complete.\n",
          "output_type": "stream"
        }
      ],
      "execution_count": null
    },
    {
      "cell_type": "markdown",
      "source": [
        "# 1.\n",
        "\n",
        "Complete the function below according to its docstring."
      ],
      "metadata": {
        "id": "Nuzs66GrNnV_"
      }
    },
    {
      "cell_type": "code",
      "source": [
        "def select_second(L):\n",
        "    \"\"\"Return the second element of the given list. If the list has no second\n",
        "    element, return None.\n",
        "    \"\"\"\n",
        "    if len(L)> 2:\n",
        "        return L[1]\n",
        "    else:\n",
        "        return None\n",
        "\n",
        "# Check your answer\n",
        "q1.check()"
      ],
      "metadata": {
        "trusted": true,
        "execution": {
          "iopub.status.busy": "2025-03-01T15:27:20.068828Z",
          "iopub.execute_input": "2025-03-01T15:27:20.069195Z",
          "iopub.status.idle": "2025-03-01T15:27:20.076705Z",
          "shell.execute_reply.started": "2025-03-01T15:27:20.069164Z",
          "shell.execute_reply": "2025-03-01T15:27:20.075663Z"
        },
        "id": "cw-ipyKENnV_",
        "outputId": "1f1d4ad9-9815-4b45-d645-8b47c02fe0bd"
      },
      "outputs": [
        {
          "output_type": "display_data",
          "data": {
            "text/plain": "<IPython.core.display.Javascript object>",
            "application/javascript": "parent.postMessage({\"jupyterEvent\": \"custom.exercise_interaction\", \"data\": {\"outcomeType\": 1, \"valueTowardsCompletion\": 0.2, \"interactionType\": 1, \"questionType\": 2, \"questionId\": \"1_SelectSecondItem\", \"learnToolsVersion\": \"0.3.4\", \"failureMessage\": \"\", \"exceptionClass\": \"\", \"trace\": \"\"}}, \"*\")"
          },
          "metadata": {}
        },
        {
          "output_type": "display_data",
          "data": {
            "text/plain": "Correct",
            "text/markdown": "<span style=\"color:#33cc33\">Correct</span>"
          },
          "metadata": {}
        }
      ],
      "execution_count": null
    },
    {
      "cell_type": "code",
      "source": [
        "q1.hint()\n",
        "q1.solution()"
      ],
      "metadata": {
        "trusted": true,
        "execution": {
          "iopub.status.busy": "2025-03-01T15:27:28.505803Z",
          "iopub.execute_input": "2025-03-01T15:27:28.506188Z",
          "iopub.status.idle": "2025-03-01T15:27:28.51586Z",
          "shell.execute_reply.started": "2025-03-01T15:27:28.506112Z",
          "shell.execute_reply": "2025-03-01T15:27:28.514931Z"
        },
        "id": "EpqI2EZ3NnV_",
        "outputId": "d3486637-1798-4f33-9dc3-65a14617c56c"
      },
      "outputs": [
        {
          "output_type": "display_data",
          "data": {
            "text/plain": "<IPython.core.display.Javascript object>",
            "application/javascript": "parent.postMessage({\"jupyterEvent\": \"custom.exercise_interaction\", \"data\": {\"interactionType\": 2, \"questionType\": 2, \"questionId\": \"1_SelectSecondItem\", \"learnToolsVersion\": \"0.3.4\", \"valueTowardsCompletion\": 0.0, \"failureMessage\": \"\", \"exceptionClass\": \"\", \"trace\": \"\", \"outcomeType\": 4}}, \"*\")"
          },
          "metadata": {}
        },
        {
          "output_type": "display_data",
          "data": {
            "text/plain": "Hint: Python starts counting at 0. So the second item isn't indexed with a 2",
            "text/markdown": "<span style=\"color:#3366cc\">Hint:</span> Python starts counting at 0. So the second item isn't indexed with a 2"
          },
          "metadata": {}
        },
        {
          "output_type": "display_data",
          "data": {
            "text/plain": "<IPython.core.display.Javascript object>",
            "application/javascript": "parent.postMessage({\"jupyterEvent\": \"custom.exercise_interaction\", \"data\": {\"interactionType\": 3, \"questionType\": 2, \"questionId\": \"1_SelectSecondItem\", \"learnToolsVersion\": \"0.3.4\", \"valueTowardsCompletion\": 0.0, \"failureMessage\": \"\", \"exceptionClass\": \"\", \"trace\": \"\", \"outcomeType\": 4}}, \"*\")"
          },
          "metadata": {}
        },
        {
          "output_type": "display_data",
          "data": {
            "text/plain": "Solution: \n```python\ndef select_second(L):\n    if len(L) < 2:\n        return None\n    return L[1]\n```",
            "text/markdown": "<span style=\"color:#33cc99\">Solution:</span> \n```python\ndef select_second(L):\n    if len(L) < 2:\n        return None\n    return L[1]\n```"
          },
          "metadata": {}
        }
      ],
      "execution_count": null
    },
    {
      "cell_type": "markdown",
      "source": [
        "# 2.\n",
        "\n",
        "You are analyzing sports teams.  Members of each team are stored in a list. The Coach is the first name in the list, the captain is the second name in the list, and other players are listed after that.\n",
        "These lists are stored in another list, which starts with the best team and proceeds through the list to the worst team last.  Complete the function below to select the **captain** of the worst team."
      ],
      "metadata": {
        "id": "k6lgD_e-NnWA"
      }
    },
    {
      "cell_type": "code",
      "source": [
        "def losing_team_captain(teams):\n",
        "    \"\"\"Given a list of teams, where each team is a list of names, return the 2nd player (captain)\n",
        "    from the last listed team\n",
        "    \"\"\"\n",
        "    worst_team = teams[-1]\n",
        "    return worst_team[1]\n",
        "    teams[-1][1]\n",
        "\n",
        "# Check your answer\n",
        "q2.check()"
      ],
      "metadata": {
        "trusted": true,
        "execution": {
          "iopub.status.busy": "2025-03-01T15:31:37.501065Z",
          "iopub.execute_input": "2025-03-01T15:31:37.501457Z",
          "iopub.status.idle": "2025-03-01T15:31:37.508649Z",
          "shell.execute_reply.started": "2025-03-01T15:31:37.501428Z",
          "shell.execute_reply": "2025-03-01T15:31:37.507794Z"
        },
        "id": "jkwjmdqENnWA",
        "outputId": "cd814179-ab3a-4b38-8cf0-88863390a601"
      },
      "outputs": [
        {
          "output_type": "display_data",
          "data": {
            "text/plain": "<IPython.core.display.Javascript object>",
            "application/javascript": "parent.postMessage({\"jupyterEvent\": \"custom.exercise_interaction\", \"data\": {\"outcomeType\": 1, \"valueTowardsCompletion\": 0.2, \"interactionType\": 1, \"questionType\": 2, \"questionId\": \"2_LosingTeamCaptain\", \"learnToolsVersion\": \"0.3.4\", \"failureMessage\": \"\", \"exceptionClass\": \"\", \"trace\": \"\"}}, \"*\")"
          },
          "metadata": {}
        },
        {
          "output_type": "display_data",
          "data": {
            "text/plain": "Correct",
            "text/markdown": "<span style=\"color:#33cc33\">Correct</span>"
          },
          "metadata": {}
        }
      ],
      "execution_count": null
    },
    {
      "cell_type": "code",
      "source": [
        "q2.hint()\n",
        "q2.solution()"
      ],
      "metadata": {
        "trusted": true,
        "execution": {
          "iopub.status.busy": "2025-03-01T15:31:47.547301Z",
          "iopub.execute_input": "2025-03-01T15:31:47.547644Z",
          "iopub.status.idle": "2025-03-01T15:31:47.557749Z",
          "shell.execute_reply.started": "2025-03-01T15:31:47.547617Z",
          "shell.execute_reply": "2025-03-01T15:31:47.556929Z"
        },
        "id": "GF9bLt3INnWA",
        "outputId": "e75b7e06-8692-4b79-9104-0ce450a326b3"
      },
      "outputs": [
        {
          "output_type": "display_data",
          "data": {
            "text/plain": "<IPython.core.display.Javascript object>",
            "application/javascript": "parent.postMessage({\"jupyterEvent\": \"custom.exercise_interaction\", \"data\": {\"interactionType\": 2, \"questionType\": 2, \"questionId\": \"2_LosingTeamCaptain\", \"learnToolsVersion\": \"0.3.4\", \"valueTowardsCompletion\": 0.0, \"failureMessage\": \"\", \"exceptionClass\": \"\", \"trace\": \"\", \"outcomeType\": 4}}, \"*\")"
          },
          "metadata": {}
        },
        {
          "output_type": "display_data",
          "data": {
            "text/plain": "Hint: The last item in a list `L` can be selected with `L[-1]`. The first item in the first sublist would be selected as `L[0][0]`",
            "text/markdown": "<span style=\"color:#3366cc\">Hint:</span> The last item in a list `L` can be selected with `L[-1]`. The first item in the first sublist would be selected as `L[0][0]`"
          },
          "metadata": {}
        },
        {
          "output_type": "display_data",
          "data": {
            "text/plain": "<IPython.core.display.Javascript object>",
            "application/javascript": "parent.postMessage({\"jupyterEvent\": \"custom.exercise_interaction\", \"data\": {\"interactionType\": 3, \"questionType\": 2, \"questionId\": \"2_LosingTeamCaptain\", \"learnToolsVersion\": \"0.3.4\", \"valueTowardsCompletion\": 0.0, \"failureMessage\": \"\", \"exceptionClass\": \"\", \"trace\": \"\", \"outcomeType\": 4}}, \"*\")"
          },
          "metadata": {}
        },
        {
          "output_type": "display_data",
          "data": {
            "text/plain": "Solution: \n```python\ndef losing_team_captain(teams):\n    return teams[-1][1]\n```",
            "text/markdown": "<span style=\"color:#33cc99\">Solution:</span> \n```python\ndef losing_team_captain(teams):\n    return teams[-1][1]\n```"
          },
          "metadata": {}
        }
      ],
      "execution_count": null
    },
    {
      "cell_type": "markdown",
      "source": [
        "# 3.\n",
        "\n",
        "The next iteration of Mario Kart will feature an extra-infuriating new item, the *Purple Shell*. When used, it warps the last place racer into first place and the first place racer into last place. Complete the function below to implement the Purple Shell's effect."
      ],
      "metadata": {
        "id": "-HcY_i_HNnWA"
      }
    },
    {
      "cell_type": "code",
      "source": [
        "def purple_shell(racers):\n",
        "    \"\"\"Given a list of racers, set the first place racer (at the front of the list) to last\n",
        "    place and vice versa.\n",
        "\n",
        "    >>> r = [\"Mario\", \"Bowser\", \"Luigi\"]\n",
        "    >>> purple_shell(r)\n",
        "    >>> r\n",
        "    [\"Luigi\", \"Bowser\", \"Mario\"]\n",
        "    \"\"\"\n",
        "    racers[0], racers[-1] = racers[-1] , racers[0]\n",
        "\n",
        "\n",
        "# Check your answer\n",
        "q3.check()"
      ],
      "metadata": {
        "trusted": true,
        "execution": {
          "iopub.status.busy": "2025-03-01T15:40:08.25929Z",
          "iopub.execute_input": "2025-03-01T15:40:08.259607Z",
          "iopub.status.idle": "2025-03-01T15:40:08.267083Z",
          "shell.execute_reply.started": "2025-03-01T15:40:08.259583Z",
          "shell.execute_reply": "2025-03-01T15:40:08.26614Z"
        },
        "id": "4j9Zek-6NnWB",
        "outputId": "39eea02c-a1e7-4209-b560-d8574401cc16"
      },
      "outputs": [
        {
          "output_type": "display_data",
          "data": {
            "text/plain": "<IPython.core.display.Javascript object>",
            "application/javascript": "parent.postMessage({\"jupyterEvent\": \"custom.exercise_interaction\", \"data\": {\"outcomeType\": 1, \"valueTowardsCompletion\": 0.2, \"interactionType\": 1, \"questionType\": 2, \"questionId\": \"3_PurpleShell\", \"learnToolsVersion\": \"0.3.4\", \"failureMessage\": \"\", \"exceptionClass\": \"\", \"trace\": \"\"}}, \"*\")"
          },
          "metadata": {}
        },
        {
          "output_type": "display_data",
          "data": {
            "text/plain": "Correct",
            "text/markdown": "<span style=\"color:#33cc33\">Correct</span>"
          },
          "metadata": {}
        }
      ],
      "execution_count": null
    },
    {
      "cell_type": "code",
      "source": [
        "q3.hint()\n",
        "q3.solution()"
      ],
      "metadata": {
        "trusted": true,
        "execution": {
          "iopub.status.busy": "2025-03-01T15:40:16.684064Z",
          "iopub.execute_input": "2025-03-01T15:40:16.684396Z",
          "iopub.status.idle": "2025-03-01T15:40:16.693795Z",
          "shell.execute_reply.started": "2025-03-01T15:40:16.684372Z",
          "shell.execute_reply": "2025-03-01T15:40:16.693026Z"
        },
        "id": "MIxcvqT3NnWB",
        "outputId": "cfaa3832-8aec-4eb0-f4fb-48e6c847f8c5"
      },
      "outputs": [
        {
          "output_type": "display_data",
          "data": {
            "text/plain": "<IPython.core.display.Javascript object>",
            "application/javascript": "parent.postMessage({\"jupyterEvent\": \"custom.exercise_interaction\", \"data\": {\"interactionType\": 2, \"questionType\": 2, \"questionId\": \"3_PurpleShell\", \"learnToolsVersion\": \"0.3.4\", \"valueTowardsCompletion\": 0.0, \"failureMessage\": \"\", \"exceptionClass\": \"\", \"trace\": \"\", \"outcomeType\": 4}}, \"*\")"
          },
          "metadata": {}
        },
        {
          "output_type": "display_data",
          "data": {
            "text/plain": "Hint: Your function should change the list it receives, but not return anything\n\nTo swap the list elements, think back to the code you used in the very first exercise to swap two variables.",
            "text/markdown": "<span style=\"color:#3366cc\">Hint:</span> Your function should change the list it receives, but not return anything\n\nTo swap the list elements, think back to the code you used in the very first exercise to swap two variables."
          },
          "metadata": {}
        },
        {
          "output_type": "display_data",
          "data": {
            "text/plain": "<IPython.core.display.Javascript object>",
            "application/javascript": "parent.postMessage({\"jupyterEvent\": \"custom.exercise_interaction\", \"data\": {\"interactionType\": 3, \"questionType\": 2, \"questionId\": \"3_PurpleShell\", \"learnToolsVersion\": \"0.3.4\", \"valueTowardsCompletion\": 0.0, \"failureMessage\": \"\", \"exceptionClass\": \"\", \"trace\": \"\", \"outcomeType\": 4}}, \"*\")"
          },
          "metadata": {}
        },
        {
          "output_type": "display_data",
          "data": {
            "text/plain": "Solution: \n```python\ndef purple_shell(racers):\n    # One slick way to do the swap is x[0], x[-1] = x[-1], x[0].\n    temp = racers[0]\n    racers[0] = racers[-1]\n    racers[-1] = temp\n```",
            "text/markdown": "<span style=\"color:#33cc99\">Solution:</span> \n```python\ndef purple_shell(racers):\n    # One slick way to do the swap is x[0], x[-1] = x[-1], x[0].\n    temp = racers[0]\n    racers[0] = racers[-1]\n    racers[-1] = temp\n```"
          },
          "metadata": {}
        }
      ],
      "execution_count": null
    },
    {
      "cell_type": "markdown",
      "source": [
        "# 4.\n",
        "\n",
        "What are the lengths of the following lists? Fill in the variable `lengths` with your predictions. (Try to make a prediction for each list *without* just calling `len()` on it.)"
      ],
      "metadata": {
        "id": "sXgWDQIoNnWB"
      }
    },
    {
      "cell_type": "code",
      "source": [
        "a = [1, 2, 3]\n",
        "b = [1, [2, 3]]\n",
        "c = []\n",
        "d = [1, 2, 3][1:]\n",
        "\n",
        "# Put your predictions in the list below. Lengths should contain 4 numbers, the\n",
        "# first being the length of a, the second being the length of b and so on.\n",
        "lengths = [3,2,0,2]\n",
        "\n",
        "# Check your answer\n",
        "q4.check()"
      ],
      "metadata": {
        "trusted": true,
        "execution": {
          "iopub.status.busy": "2025-03-01T15:46:00.120107Z",
          "iopub.execute_input": "2025-03-01T15:46:00.120474Z",
          "iopub.status.idle": "2025-03-01T15:46:00.128288Z",
          "shell.execute_reply.started": "2025-03-01T15:46:00.120445Z",
          "shell.execute_reply": "2025-03-01T15:46:00.127283Z"
        },
        "id": "0VpEh83DNnWB",
        "outputId": "9ee46126-e2af-40a0-ccad-c469ea7c2219"
      },
      "outputs": [
        {
          "output_type": "display_data",
          "data": {
            "text/plain": "<IPython.core.display.Javascript object>",
            "application/javascript": "parent.postMessage({\"jupyterEvent\": \"custom.exercise_interaction\", \"data\": {\"outcomeType\": 1, \"valueTowardsCompletion\": 0.2, \"interactionType\": 1, \"questionType\": 1, \"questionId\": \"4_UnderstandLen\", \"learnToolsVersion\": \"0.3.4\", \"failureMessage\": \"\", \"exceptionClass\": \"\", \"trace\": \"\"}}, \"*\")"
          },
          "metadata": {}
        },
        {
          "output_type": "display_data",
          "data": {
            "text/plain": "Correct: \n\n\n- a: There are three items in this list. Nothing tricky yet.\n- b: The list `[2, 3]` counts as a single item. It has one item before it. So we have 2 items in the list\n- c: The empty list has 0 items\n- d: The expression is the same as the list `[2, 3]`, which has length 2.",
            "text/markdown": "<span style=\"color:#33cc33\">Correct:</span> \n\n\n- a: There are three items in this list. Nothing tricky yet.\n- b: The list `[2, 3]` counts as a single item. It has one item before it. So we have 2 items in the list\n- c: The empty list has 0 items\n- d: The expression is the same as the list `[2, 3]`, which has length 2."
          },
          "metadata": {}
        }
      ],
      "execution_count": null
    },
    {
      "cell_type": "code",
      "source": [
        "#line below provides some explanation\n",
        "q4.solution()"
      ],
      "metadata": {
        "trusted": true,
        "execution": {
          "iopub.status.busy": "2025-03-01T15:44:20.897329Z",
          "iopub.execute_input": "2025-03-01T15:44:20.897637Z",
          "iopub.status.idle": "2025-03-01T15:44:20.904442Z",
          "shell.execute_reply.started": "2025-03-01T15:44:20.897613Z",
          "shell.execute_reply": "2025-03-01T15:44:20.903529Z"
        },
        "id": "D2IdGLXuNnWC",
        "outputId": "0c7df932-6c7f-4f74-f0c5-bceb3a128889"
      },
      "outputs": [
        {
          "output_type": "display_data",
          "data": {
            "text/plain": "<IPython.core.display.Javascript object>",
            "application/javascript": "parent.postMessage({\"jupyterEvent\": \"custom.exercise_interaction\", \"data\": {\"interactionType\": 3, \"questionType\": 1, \"questionId\": \"4_UnderstandLen\", \"learnToolsVersion\": \"0.3.4\", \"valueTowardsCompletion\": 0.0, \"failureMessage\": \"\", \"exceptionClass\": \"\", \"trace\": \"\", \"outcomeType\": 4}}, \"*\")"
          },
          "metadata": {}
        },
        {
          "output_type": "display_data",
          "data": {
            "text/plain": "Solution: \n- a: There are three items in this list. Nothing tricky yet.\n- b: The list `[2, 3]` counts as a single item. It has one item before it. So we have 2 items in the list\n- c: The empty list has 0 items\n- d: The expression is the same as the list `[2, 3]`, which has length 2.",
            "text/markdown": "<span style=\"color:#33cc99\">Solution:</span> \n- a: There are three items in this list. Nothing tricky yet.\n- b: The list `[2, 3]` counts as a single item. It has one item before it. So we have 2 items in the list\n- c: The empty list has 0 items\n- d: The expression is the same as the list `[2, 3]`, which has length 2."
          },
          "metadata": {}
        }
      ],
      "execution_count": null
    },
    {
      "cell_type": "markdown",
      "source": [
        "# 5. <span title=\"A bit spicy\" style=\"color: darkgreen \">🌶️</span>\n",
        "\n",
        "We're using lists to record people who attended our party and what order they arrived in. For example, the following list represents a party with 7 guests, in which Adela showed up first and Ford was the last to arrive:\n",
        "\n",
        "    party_attendees = ['Adela', 'Fleda', 'Owen', 'May', 'Mona', 'Gilbert', 'Ford']\n",
        "\n",
        "A guest is considered 'fashionably late' if they arrived after at least half of the party's guests. However, they must not be the very last guest (that's taking it too far). In the above example, Mona and Gilbert are the only guests who were fashionably late.\n",
        "\n",
        "Complete the function below which takes a list of party attendees as well as a person, and tells us whether that person is fashionably late."
      ],
      "metadata": {
        "id": "qFt1ldw6NnWC"
      }
    },
    {
      "cell_type": "code",
      "source": [
        "def fashionably_late(arrivals, name):\n",
        "    \"\"\"Given an ordered list of arrivals to the party and a name, return whether the guest with that\n",
        "    name was fashionably late.\n",
        "    \"\"\"\n",
        "\n",
        "    order = arrivals.index(name)\n",
        "    return order >= len(arrivals) / 2 and order != len(arrivals) - 1\n",
        "\n",
        "\n",
        "\n",
        "\n",
        "# Check your answer\n",
        "q5.check()"
      ],
      "metadata": {
        "trusted": true,
        "id": "R6jS_kibNnWC"
      },
      "outputs": [],
      "execution_count": null
    },
    {
      "cell_type": "code",
      "source": [
        "q5.hint()\n",
        "q5.solution()"
      ],
      "metadata": {
        "trusted": true,
        "execution": {
          "iopub.status.busy": "2025-03-01T16:12:27.720958Z",
          "iopub.execute_input": "2025-03-01T16:12:27.721315Z",
          "iopub.status.idle": "2025-03-01T16:12:27.731223Z",
          "shell.execute_reply.started": "2025-03-01T16:12:27.721276Z",
          "shell.execute_reply": "2025-03-01T16:12:27.730403Z"
        },
        "id": "GKaAZiHMNnWC",
        "outputId": "1d37d82c-00fa-42ea-c1b3-4301ecb6cce5"
      },
      "outputs": [
        {
          "output_type": "display_data",
          "data": {
            "text/plain": "<IPython.core.display.Javascript object>",
            "application/javascript": "parent.postMessage({\"jupyterEvent\": \"custom.exercise_interaction\", \"data\": {\"interactionType\": 2, \"questionType\": 2, \"questionId\": \"5_FashionablyLate\", \"learnToolsVersion\": \"0.3.4\", \"valueTowardsCompletion\": 0.0, \"failureMessage\": \"\", \"exceptionClass\": \"\", \"trace\": \"\", \"outcomeType\": 4}}, \"*\")"
          },
          "metadata": {}
        },
        {
          "output_type": "display_data",
          "data": {
            "text/plain": "Hint: Use the index method to find when the person arrived. Check whether that is a fashionably late spot given the list length (`len`). Think about 0-indexing",
            "text/markdown": "<span style=\"color:#3366cc\">Hint:</span> Use the index method to find when the person arrived. Check whether that is a fashionably late spot given the list length (`len`). Think about 0-indexing"
          },
          "metadata": {}
        },
        {
          "output_type": "display_data",
          "data": {
            "text/plain": "<IPython.core.display.Javascript object>",
            "application/javascript": "parent.postMessage({\"jupyterEvent\": \"custom.exercise_interaction\", \"data\": {\"interactionType\": 3, \"questionType\": 2, \"questionId\": \"5_FashionablyLate\", \"learnToolsVersion\": \"0.3.4\", \"valueTowardsCompletion\": 0.0, \"failureMessage\": \"\", \"exceptionClass\": \"\", \"trace\": \"\", \"outcomeType\": 4}}, \"*\")"
          },
          "metadata": {}
        },
        {
          "output_type": "display_data",
          "data": {
            "text/plain": "Solution: \n```python\ndef fashionably_late(arrivals, name):\n    order = arrivals.index(name)\n    return order >= len(arrivals) / 2 and order != len(arrivals) - 1\n```",
            "text/markdown": "<span style=\"color:#33cc99\">Solution:</span> \n```python\ndef fashionably_late(arrivals, name):\n    order = arrivals.index(name)\n    return order >= len(arrivals) / 2 and order != len(arrivals) - 1\n```"
          },
          "metadata": {}
        }
      ],
      "execution_count": null
    },
    {
      "cell_type": "markdown",
      "source": [
        "# Keep Going\n",
        "\n",
        "That's it for lists and tuples! Now you have the baseline knowledge to **[learn about loops](https://www.kaggle.com/colinmorris/loops-and-list-comprehensions)**, which is where lists and tuples get really interesting."
      ],
      "metadata": {
        "id": "qcA8o2wLNnWC"
      }
    },
    {
      "cell_type": "markdown",
      "source": [
        "---\n",
        "\n",
        "\n",
        "\n",
        "\n",
        "*Have questions or comments? Visit the [course discussion forum](https://www.kaggle.com/learn/python/discussion) to chat with other learners.*"
      ],
      "metadata": {
        "id": "G9eH2Ab8NnWC"
      }
    }
  ]
}